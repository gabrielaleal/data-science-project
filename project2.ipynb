{
 "cells": [
  {
   "cell_type": "code",
   "execution_count": 1,
   "id": "01b4e8da",
   "metadata": {},
   "outputs": [],
   "source": [
    "from os import walk\n",
    "\n",
    "import pandas as pd\n",
    "import numpy as np\n",
    "import matplotlib.pyplot as plt\n",
    "from scipy import stats"
   ]
  },
  {
   "cell_type": "markdown",
   "id": "37c781e0",
   "metadata": {},
   "source": [
    "## Loading and processing data"
   ]
  },
  {
   "cell_type": "code",
   "execution_count": 4,
   "id": "e09fbf91",
   "metadata": {},
   "outputs": [],
   "source": [
    "df = pd.read_csv('project1_output.csv')"
   ]
  },
  {
   "cell_type": "markdown",
   "id": "36b0bc65",
   "metadata": {},
   "source": [
    "#### Converting cols to their appropriate types again because we lost it on the csv export"
   ]
  },
  {
   "cell_type": "code",
   "execution_count": 8,
   "id": "0fbdbe54",
   "metadata": {
    "scrolled": true
   },
   "outputs": [],
   "source": [
    "df[\"product_category_name\"] = df[\"product_category_name\"].astype('category')\n",
    "df[\"order_status\"] = df[\"order_status\"].astype('category')\n",
    "df[\"review_score\"] = df[\"review_score\"].astype('category')\n",
    "df[\"payment_type\"] = df[\"payment_type\"].astype('category')\n",
    "df[\"customer_zip_code_prefix\"] = df[\"customer_zip_code_prefix\"].astype('category')\n",
    "df[\"customer_city\"] = df[\"customer_city\"].astype('category')\n",
    "df[\"customer_state\"] = df[\"customer_state\"].astype('category')\n",
    "df[\"seller_zip_code_prefix\"] = df[\"seller_zip_code_prefix\"].astype('category')\n",
    "df[\"seller_city\"] = df[\"seller_city\"].astype('category')\n",
    "df[\"seller_state\"] = df[\"seller_state\"].astype('category')\n",
    "\n",
    "df[\"product_name_lenght\"] = df[\"product_name_lenght\"].astype('int64')\n",
    "df[\"product_description_lenght\"] = df[\"product_description_lenght\"].astype('int64')\n",
    "df[\"product_photos_qty\"] = df[\"product_photos_qty\"].astype('int64')\n",
    "df[\"payment_installments\"] = df[\"payment_installments\"].astype('int64')\n",
    "df[\"payment_sequential\"] = df[\"payment_sequential\"].astype('int64')"
   ]
  },
  {
   "cell_type": "code",
   "execution_count": 21,
   "id": "076bef45",
   "metadata": {
    "scrolled": true
   },
   "outputs": [
    {
     "data": {
      "text/plain": [
       "order_item_id                    int64\n",
       "price                          float64\n",
       "freight_value                  float64\n",
       "product_category_name         category\n",
       "product_name_lenght              int64\n",
       "product_description_lenght       int64\n",
       "product_photos_qty               int64\n",
       "product_weight_g               float64\n",
       "product_length_cm              float64\n",
       "product_height_cm              float64\n",
       "product_width_cm               float64\n",
       "order_status                  category\n",
       "review_score                  category\n",
       "payment_sequential               int64\n",
       "payment_type                  category\n",
       "payment_installments             int64\n",
       "customer_zip_code_prefix      category\n",
       "customer_city                 category\n",
       "customer_state                category\n",
       "seller_zip_code_prefix        category\n",
       "seller_city                   category\n",
       "seller_state                  category\n",
       "payment_value_norm             float64\n",
       "volume                         float64\n",
       "dtype: object"
      ]
     },
     "execution_count": 21,
     "metadata": {},
     "output_type": "execute_result"
    }
   ],
   "source": [
    "df.dtypes"
   ]
  },
  {
   "cell_type": "markdown",
   "id": "6d661d06",
   "metadata": {},
   "source": [
    "#### Droping unnecessary columns\n",
    "We only want to work with numerical values."
   ]
  },
  {
   "cell_type": "code",
   "execution_count": 11,
   "id": "bd0c918a",
   "metadata": {},
   "outputs": [],
   "source": [
    "df = df.select_dtypes(exclude=['object'])"
   ]
  },
  {
   "cell_type": "code",
   "execution_count": 14,
   "id": "839d9829",
   "metadata": {
    "scrolled": true
   },
   "outputs": [
    {
     "data": {
      "text/plain": [
       "Index(['order_item_id', 'price', 'freight_value', 'product_category_name',\n",
       "       'product_name_lenght', 'product_description_lenght',\n",
       "       'product_photos_qty', 'product_weight_g', 'product_length_cm',\n",
       "       'product_height_cm', 'product_width_cm', 'order_status', 'review_score',\n",
       "       'payment_sequential', 'payment_type', 'payment_installments',\n",
       "       'payment_value', 'customer_zip_code_prefix', 'customer_city',\n",
       "       'customer_state', 'seller_zip_code_prefix', 'seller_city',\n",
       "       'seller_state', 'payment_value_norm', 'volume'],\n",
       "      dtype='object')"
      ]
     },
     "execution_count": 14,
     "metadata": {},
     "output_type": "execute_result"
    }
   ],
   "source": [
    "df.columns"
   ]
  },
  {
   "cell_type": "markdown",
   "id": "095deda2",
   "metadata": {},
   "source": [
    "We'll also drop the `payment_value` column because our model would simply infer our target value from it by subtracting it from the `price` column."
   ]
  },
  {
   "cell_type": "code",
   "execution_count": null,
   "id": "ee80e0b0",
   "metadata": {},
   "outputs": [],
   "source": [
    "df = df.drop(columns=['payment_value'])"
   ]
  },
  {
   "cell_type": "markdown",
   "id": "f44ade1c",
   "metadata": {},
   "source": [
    "### Feature engineering"
   ]
  },
  {
   "cell_type": "code",
   "execution_count": 27,
   "id": "888fbf34",
   "metadata": {},
   "outputs": [],
   "source": [
    "df = pd.get_dummies(df)\n",
    "df = df.select_dtypes(exclude=['category'])"
   ]
  },
  {
   "cell_type": "markdown",
   "id": "bf542d7f",
   "metadata": {},
   "source": [
    "## Picking column for prediction"
   ]
  },
  {
   "cell_type": "code",
   "execution_count": 22,
   "id": "222e2249",
   "metadata": {},
   "outputs": [],
   "source": [
    "TARGET_VALUE = 'freight_value'"
   ]
  },
  {
   "cell_type": "markdown",
   "id": "1005f0b8",
   "metadata": {},
   "source": [
    "## Separating prediction and test data"
   ]
  },
  {
   "cell_type": "code",
   "execution_count": 29,
   "id": "482e5692",
   "metadata": {},
   "outputs": [],
   "source": [
    "import logging\n",
    "\n",
    "from sklearn.model_selection import train_test_split\n",
    "\n",
    "\n",
    "logging.basicConfig(level=logging.WARN)\n",
    "logger = logging.getLogger(__name__)"
   ]
  },
  {
   "cell_type": "code",
   "execution_count": 31,
   "id": "760b9f0f",
   "metadata": {},
   "outputs": [],
   "source": [
    "x_df = df.drop('freight_value', axis=1)\n",
    "y_df = df['freight_value']\n",
    "Xtrain, Xtest, ytrain, ytest = train_test_split(x_df, y_df, random_state=1)"
   ]
  }
 ],
 "metadata": {
  "kernelspec": {
   "display_name": "Python 3",
   "language": "python",
   "name": "python3"
  },
  "language_info": {
   "codemirror_mode": {
    "name": "ipython",
    "version": 3
   },
   "file_extension": ".py",
   "mimetype": "text/x-python",
   "name": "python",
   "nbconvert_exporter": "python",
   "pygments_lexer": "ipython3",
   "version": "3.7.7"
  }
 },
 "nbformat": 4,
 "nbformat_minor": 5
}
