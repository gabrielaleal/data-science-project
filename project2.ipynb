{
 "cells": [
  {
   "cell_type": "code",
   "execution_count": 18,
   "id": "01b4e8da",
   "metadata": {},
   "outputs": [],
   "source": [
    "import os\n",
    "from os import walk\n",
    "import warnings\n",
    "import sys\n",
    "\n",
    "import pandas as pd\n",
    "import numpy as np\n",
    "import matplotlib.pyplot as plt\n",
    "\n",
    "import mlflow\n",
    "import mlflow.sklearn\n",
    "\n",
    "import tensorflow as tf\n",
    "from tensorflow import keras\n",
    "from tensorflow.keras import layers\n",
    "from tensorflow.keras.layers.experimental import preprocessing\n",
    "\n",
    "from sklearn.metrics import (\n",
    "    mean_squared_error,\n",
    "    mean_absolute_error,\n",
    "    r2_score,\n",
    "    confusion_matrix,\n",
    "    classification_report,\n",
    "    accuracy_score\n",
    ")\n",
    "from sklearn.linear_model import LinearRegression\n",
    "from sklearn.ensemble import RandomForestRegressor\n",
    "\n",
    "import lightgbm\n",
    "from lightgbm import LGBMRegressor"
   ]
  },
  {
   "cell_type": "markdown",
   "id": "37c781e0",
   "metadata": {},
   "source": [
    "## Loading and processing data"
   ]
  },
  {
   "cell_type": "code",
   "execution_count": 2,
   "id": "e09fbf91",
   "metadata": {},
   "outputs": [],
   "source": [
    "df = pd.read_csv('project1_output.csv')"
   ]
  },
  {
   "cell_type": "markdown",
   "id": "36b0bc65",
   "metadata": {},
   "source": [
    "#### Converting cols to their appropriate types again because we lost it on the csv export"
   ]
  },
  {
   "cell_type": "code",
   "execution_count": 3,
   "id": "0fbdbe54",
   "metadata": {
    "scrolled": true
   },
   "outputs": [],
   "source": [
    "df[\"product_category_name\"] = df[\"product_category_name\"].astype('category')\n",
    "df[\"order_status\"] = df[\"order_status\"].astype('category')\n",
    "df[\"review_score\"] = df[\"review_score\"].astype('category')\n",
    "df[\"payment_type\"] = df[\"payment_type\"].astype('category')\n",
    "df[\"customer_zip_code_prefix\"] = df[\"customer_zip_code_prefix\"].astype('category')\n",
    "df[\"customer_city\"] = df[\"customer_city\"].astype('category')\n",
    "df[\"customer_state\"] = df[\"customer_state\"].astype('category')\n",
    "df[\"seller_zip_code_prefix\"] = df[\"seller_zip_code_prefix\"].astype('category')\n",
    "df[\"seller_city\"] = df[\"seller_city\"].astype('category')\n",
    "df[\"seller_state\"] = df[\"seller_state\"].astype('category')\n",
    "\n",
    "df[\"product_name_lenght\"] = df[\"product_name_lenght\"].astype('int64')\n",
    "df[\"product_description_lenght\"] = df[\"product_description_lenght\"].astype('int64')\n",
    "df[\"product_photos_qty\"] = df[\"product_photos_qty\"].astype('int64')\n",
    "df[\"payment_installments\"] = df[\"payment_installments\"].astype('int64')\n",
    "df[\"payment_sequential\"] = df[\"payment_sequential\"].astype('int64')"
   ]
  },
  {
   "cell_type": "code",
   "execution_count": 4,
   "id": "076bef45",
   "metadata": {
    "scrolled": true
   },
   "outputs": [
    {
     "data": {
      "text/plain": [
       "order_id                           object\n",
       "order_item_id                       int64\n",
       "product_id                         object\n",
       "seller_id                          object\n",
       "shipping_limit_date                object\n",
       "price                             float64\n",
       "freight_value                     float64\n",
       "product_category_name            category\n",
       "product_name_lenght                 int64\n",
       "product_description_lenght          int64\n",
       "product_photos_qty                  int64\n",
       "product_weight_g                  float64\n",
       "product_length_cm                 float64\n",
       "product_height_cm                 float64\n",
       "product_width_cm                  float64\n",
       "customer_id                        object\n",
       "order_status                     category\n",
       "order_purchase_timestamp           object\n",
       "order_approved_at                  object\n",
       "order_delivered_carrier_date       object\n",
       "order_delivered_customer_date      object\n",
       "order_estimated_delivery_date      object\n",
       "review_id                          object\n",
       "review_score                     category\n",
       "review_creation_date               object\n",
       "review_answer_timestamp            object\n",
       "payment_sequential                  int64\n",
       "payment_type                     category\n",
       "payment_installments                int64\n",
       "payment_value                     float64\n",
       "customer_unique_id                 object\n",
       "customer_zip_code_prefix         category\n",
       "customer_city                    category\n",
       "customer_state                   category\n",
       "seller_zip_code_prefix           category\n",
       "seller_city                      category\n",
       "seller_state                     category\n",
       "payment_value_norm                float64\n",
       "payment_value_dist                 object\n",
       "volume                            float64\n",
       "dtype: object"
      ]
     },
     "execution_count": 4,
     "metadata": {},
     "output_type": "execute_result"
    }
   ],
   "source": [
    "df.dtypes"
   ]
  },
  {
   "cell_type": "markdown",
   "id": "6d661d06",
   "metadata": {},
   "source": [
    "#### Droping unnecessary columns\n",
    "We only want to work with numerical values."
   ]
  },
  {
   "cell_type": "code",
   "execution_count": 5,
   "id": "bd0c918a",
   "metadata": {},
   "outputs": [],
   "source": [
    "df = df.select_dtypes(exclude=['object'])"
   ]
  },
  {
   "cell_type": "code",
   "execution_count": 6,
   "id": "839d9829",
   "metadata": {
    "scrolled": true
   },
   "outputs": [
    {
     "data": {
      "text/plain": [
       "Index(['order_item_id', 'price', 'freight_value', 'product_category_name',\n",
       "       'product_name_lenght', 'product_description_lenght',\n",
       "       'product_photos_qty', 'product_weight_g', 'product_length_cm',\n",
       "       'product_height_cm', 'product_width_cm', 'order_status', 'review_score',\n",
       "       'payment_sequential', 'payment_type', 'payment_installments',\n",
       "       'payment_value', 'customer_zip_code_prefix', 'customer_city',\n",
       "       'customer_state', 'seller_zip_code_prefix', 'seller_city',\n",
       "       'seller_state', 'payment_value_norm', 'volume'],\n",
       "      dtype='object')"
      ]
     },
     "execution_count": 6,
     "metadata": {},
     "output_type": "execute_result"
    }
   ],
   "source": [
    "df.columns"
   ]
  },
  {
   "cell_type": "markdown",
   "id": "095deda2",
   "metadata": {},
   "source": [
    "We'll also drop the `payment_value` column because our model would simply infer our target value from it by subtracting it from the `price` column."
   ]
  },
  {
   "cell_type": "code",
   "execution_count": 7,
   "id": "ee80e0b0",
   "metadata": {},
   "outputs": [],
   "source": [
    "df = df.drop(columns=['payment_value'])"
   ]
  },
  {
   "cell_type": "markdown",
   "id": "f44ade1c",
   "metadata": {},
   "source": [
    "### Feature engineering\n",
    "\n",
    "Here we'll one-hot encode all of our categorical columns, and then drop the original ones"
   ]
  },
  {
   "cell_type": "code",
   "execution_count": 8,
   "id": "888fbf34",
   "metadata": {},
   "outputs": [],
   "source": [
    "df = pd.get_dummies(df)\n",
    "df = df.select_dtypes(exclude=['category'])"
   ]
  },
  {
   "cell_type": "markdown",
   "id": "87163958",
   "metadata": {},
   "source": [
    "Even though we generated over 22000 columns this way, we believe that our model will be powerful enough to filter out any unecessary data."
   ]
  },
  {
   "cell_type": "markdown",
   "id": "bf542d7f",
   "metadata": {},
   "source": [
    "## Picking column for prediction\n",
    "\n",
    "We chose the `freight_value` column so we can perform a regression in order to try to find it's value based on all of the columns we have available."
   ]
  },
  {
   "cell_type": "code",
   "execution_count": 9,
   "id": "222e2249",
   "metadata": {},
   "outputs": [],
   "source": [
    "TARGET_VALUE = 'freight_value'"
   ]
  },
  {
   "cell_type": "code",
   "execution_count": 10,
   "id": "b762581f",
   "metadata": {},
   "outputs": [],
   "source": [
    "target_col = df[TARGET_VALUE]"
   ]
  },
  {
   "cell_type": "code",
   "execution_count": 11,
   "id": "56b26f44",
   "metadata": {},
   "outputs": [
    {
     "data": {
      "text/plain": [
       "0         13.29\n",
       "1         19.93\n",
       "2         17.87\n",
       "3         12.79\n",
       "4         18.14\n",
       "          ...  \n",
       "118290    43.41\n",
       "118291    36.53\n",
       "118292    16.95\n",
       "118293     8.72\n",
       "118294    12.79\n",
       "Name: freight_value, Length: 118295, dtype: float64"
      ]
     },
     "execution_count": 11,
     "metadata": {},
     "output_type": "execute_result"
    }
   ],
   "source": [
    "target_col"
   ]
  },
  {
   "cell_type": "code",
   "execution_count": 12,
   "id": "67fb6c01",
   "metadata": {},
   "outputs": [],
   "source": [
    "df = df.drop(columns=[TARGET_VALUE])"
   ]
  },
  {
   "cell_type": "markdown",
   "id": "1005f0b8",
   "metadata": {},
   "source": [
    "## Separating prediction and test data\n",
    "\n",
    "We'll split our data in a 60/20/20 ratio."
   ]
  },
  {
   "cell_type": "code",
   "execution_count": 13,
   "id": "760b9f0f",
   "metadata": {},
   "outputs": [],
   "source": [
    "# input \n",
    "train, val, test = np.split(df.sample(frac=1), [int(.6*len(df)), int(.8*len(df))])\n",
    "\n",
    "# output\n",
    "train_labels, val_labels, test_labels = (\n",
    "    np.split(\n",
    "        target_col, \n",
    "        [int(.6*len(target_col)), int(.8*len(target_col))])\n",
    ")"
   ]
  },
  {
   "cell_type": "markdown",
   "id": "19b17f0b",
   "metadata": {},
   "source": [
    "# Picking 4 ML algorithms"
   ]
  },
  {
   "cell_type": "markdown",
   "id": "81d3d0e6",
   "metadata": {},
   "source": [
    "We'll use the following 4 algorithms:\n",
    "\n",
    "1. Linear regression\n",
    "2. Multilayer perceptron (a shallow one)\n",
    "3. random forests\n",
    "4. lightgbm/xgboost"
   ]
  },
  {
   "cell_type": "markdown",
   "id": "5647da00",
   "metadata": {},
   "source": [
    "### Metrics function"
   ]
  },
  {
   "cell_type": "code",
   "execution_count": 14,
   "id": "b1ac53ad",
   "metadata": {},
   "outputs": [],
   "source": [
    "# Evaluate metrics\n",
    "def eval_metrics(actual, pred):\n",
    "    rmse = np.sqrt(mean_squared_error(actual, pred))\n",
    "    mae = mean_absolute_error(actual, pred)\n",
    "    r2 = r2_score(actual, pred)\n",
    "    return rmse, mae, r2"
   ]
  },
  {
   "cell_type": "markdown",
   "id": "bf643db6",
   "metadata": {},
   "source": [
    "### Enabling MLFlow autologging"
   ]
  },
  {
   "cell_type": "code",
   "execution_count": 15,
   "id": "cc0517aa",
   "metadata": {},
   "outputs": [
    {
     "name": "stderr",
     "output_type": "stream",
     "text": [
      "2021/08/14 15:20:59 WARNING mlflow.utils.autologging_utils: You are using an unsupported version of tensorflow. If you encounter errors during autologging, try upgrading / downgrading tensorflow to a supported version, or try upgrading MLflow.\n"
     ]
    }
   ],
   "source": [
    "mlflow.sklearn.autolog()\n",
    "mlflow.tensorflow.autolog()"
   ]
  },
  {
   "cell_type": "markdown",
   "id": "2e8160d9",
   "metadata": {},
   "source": [
    "## Linear regression\n",
    "Let's start off with linear regression, which is the most simple algorithm in our selection, and will serve as a baseline for the following algorithms."
   ]
  },
  {
   "cell_type": "code",
   "execution_count": 20,
   "id": "82ba2a4d",
   "metadata": {},
   "outputs": [],
   "source": [
    "def linear_regression(features, labels):\n",
    "    train, val, test = features\n",
    "    train_labels, val_labels, test_labels = labels\n",
    "    \n",
    "    warnings.filterwarnings(\"ignore\")\n",
    "    np.random.seed(40)\n",
    "\n",
    "    # Start an MLflow run; the \"with\" keyword ensures we'll close the run even if this cell crashes\n",
    "    with mlflow.start_run():\n",
    "        reg = LinearRegression()\n",
    "        reg.fit(train, train_labels)\n",
    "\n",
    "        predictions = reg.predict(val)\n",
    "\n",
    "        (rmse, mae, r2) = eval_metrics(val_labels, predictions)\n",
    "\n",
    "        # Print out ElasticNet model metrics\n",
    "        print(\"Linear regression model\")\n",
    "        print(\"  RMSE: %s\" % rmse)\n",
    "        print(\"  MAE: %s\" % mae)\n",
    "        print(\"  R2: %s\" % r2)\n",
    "\n",
    "        # Log mlflow attributes for mlflow UI\n",
    "        mlflow.log_metric(\"rmse\", rmse)\n",
    "        mlflow.log_metric(\"r2\", r2)\n",
    "        mlflow.log_metric(\"mae\", mae)\n",
    "        mlflow.sklearn.log_model(reg, \"model\")\n",
    "        modelpath = \"./mlflow/freight_value/model-linear-reg\"\n",
    "        mlflow.sklearn.save_model(lr, modelpath)"
   ]
  },
  {
   "cell_type": "markdown",
   "id": "d30a6d6a",
   "metadata": {},
   "source": [
    "## Multilayer Perceptron"
   ]
  },
  {
   "cell_type": "code",
   "execution_count": null,
   "id": "ac5dfeed",
   "metadata": {},
   "outputs": [],
   "source": [
    "def mlp(features, labels, params: dict):\n",
    "    # hyper-parameters to test\n",
    "    hidden_units = params[\"hidden_units\"]\n",
    "    lr = params[\"lr\"]\n",
    "    epochs = params[\"epochs\"]\n",
    "    \n",
    "    train, val, test = features\n",
    "    train_labels, val_labels, test_labels = labels\n",
    "    \n",
    "    warnings.filterwarnings(\"ignore\")\n",
    "    np.random.seed(40)\n",
    "    \n",
    "    # Start an MLflow run; the \"with\" keyword ensures we'll close the run even if this cell crashes\n",
    "    with mlflow.start_run():\n",
    "        normalizer = preprocessing.Normalization(axis=-1)\n",
    "        normalizer.adapt(np.array(train))\n",
    "        \n",
    "        mlp_model = tf.keras.Sequential([\n",
    "            normalizer,\n",
    "            layers.Dense(units=hidden_units)\n",
    "            layers.Dense(units=hidden_units)\n",
    "            layers.Dense(units=hidden_units)\n",
    "            layers.Dense(units=1)\n",
    "        ])\n",
    "\n",
    "        mlp_model.summary()\n",
    "        \n",
    "        mlp_model.compile(\n",
    "            optimizer=tf.optimizers.Adam(learning_rate=lr),\n",
    "            loss='mean_absolute_error'\n",
    "        )\n",
    "\n",
    "        history = mlp_model.fit(\n",
    "            train, train_labels,\n",
    "            validation_data=(test, test_labels),\n",
    "            epochs=epochs\n",
    "        )\n",
    "        \n",
    "#         predictions = mlp_model.predict()\n",
    "\n",
    "        (rmse, mae, r2) = eval_metrics(val_labels, predictions)\n",
    "\n",
    "        # Print out ElasticNet model metrics\n",
    "        print(\"Linear regression model\")\n",
    "        print(\"  RMSE: %s\" % rmse)\n",
    "        print(\"  MAE: %s\" % mae)\n",
    "        print(\"  R2: %s\" % r2)\n",
    "\n",
    "        # Log mlflow attributes for mlflow UI\n",
    "        mlflow.log_metric(\"rmse\", rmse)\n",
    "        mlflow.log_metric(\"r2\", r2)\n",
    "        mlflow.log_metric(\"mae\", mae)\n",
    "        mlflow.sklearn.log_model(reg, \"model\")\n",
    "        modelpath = \"./mlflow/freight_value/model-linear-reg\"\n",
    "        mlflow.sklearn.save_model(lr, modelpath)"
   ]
  },
  {
   "cell_type": "markdown",
   "id": "8b307794",
   "metadata": {},
   "source": [
    "## Random Forest"
   ]
  },
  {
   "cell_type": "code",
   "execution_count": 31,
   "id": "6fd6df56",
   "metadata": {},
   "outputs": [],
   "source": [
    "def random_forest(features, labels, params: dict):\n",
    "    train, val, test = features\n",
    "    train_labels, val_labels, test_labels = labels\n",
    "    \n",
    "    warnings.filterwarnings(\"ignore\")\n",
    "    np.random.seed(40) # ?\n",
    "    \n",
    "    with mlflow.start_run():\n",
    "        RandomForestRegressor(max_depth=3, random_state=0)\n",
    "        # n_estimators: number of trees in the random forest\n",
    "        rf.fit(train, train_labels)\n",
    "        \n",
    "        predictions = rf.predict(test)\n",
    "        \n",
    "        (rmse, mae, r2) = eval_metrics(val_labels, predictions)\n",
    "        \n",
    "        mlflow.log_metric(\"rmse\", rmse)\n",
    "        mlflow.log_metric(\"r2\", r2)\n",
    "        mlflow.log_metric(\"mae\", mae)\n",
    "        mlflow.sklearn.log_model(reg, \"model\")\n",
    "        modelpath = \"./mlflow/freight_value/model-linear-reg\"\n",
    "        mlflow.sklearn.save_model(lr, modelpath)"
   ]
  },
  {
   "cell_type": "markdown",
   "id": "988d3d43",
   "metadata": {},
   "source": [
    "## Gradient Boosting with LightGBM"
   ]
  },
  {
   "cell_type": "code",
   "execution_count": null,
   "id": "458bec86",
   "metadata": {},
   "outputs": [],
   "source": [
    "def gradient_boosting(features, labels, params: dict):\n",
    "    train, val, test = features\n",
    "    train_labels, val_labels, test_labels = labels\n",
    "    \n",
    "    warnings.filterwarnings(\"ignore\")\n",
    "    np.random.seed(40) # ?\n",
    "    \n",
    "    with mlflow.start_run():\n",
    "        model = LGBMRegressor()\n",
    "        model.fit(train, test)\n",
    "        \n",
    "        predictions = model.predict(test)\n",
    "        print('Prediction: %.3f' % predictions[0])\n",
    "        \n",
    "        (rmse, mae, r2) = eval_metrics(val_labels, predictions)\n",
    "\n",
    "        # Print out ElasticNet model metrics\n",
    "        print(\"Linear regression model\")\n",
    "        print(\"  RMSE: %s\" % rmse)\n",
    "        print(\"  MAE: %s\" % mae)\n",
    "        print(\"  R2: %s\" % r2)\n",
    "\n",
    "        # Log mlflow attributes for mlflow UI\n",
    "        mlflow.log_metric(\"rmse\", rmse)\n",
    "        mlflow.log_metric(\"r2\", r2)\n",
    "        mlflow.log_metric(\"mae\", mae)\n",
    "        mlflow.sklearn.log_model(reg, \"model\")\n",
    "        modelpath = \"./mlflow/freight_value/model-linear-reg\"\n",
    "        mlflow.sklearn.save_model(lr, modelpath)"
   ]
  }
 ],
 "metadata": {
  "kernelspec": {
   "display_name": "Python 3",
   "language": "python",
   "name": "python3"
  },
  "language_info": {
   "codemirror_mode": {
    "name": "ipython",
    "version": 3
   },
   "file_extension": ".py",
   "mimetype": "text/x-python",
   "name": "python",
   "nbconvert_exporter": "python",
   "pygments_lexer": "ipython3",
   "version": "3.7.7"
  }
 },
 "nbformat": 4,
 "nbformat_minor": 5
}
